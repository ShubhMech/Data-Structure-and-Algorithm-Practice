{
 "cells": [
  {
   "cell_type": "markdown",
   "id": "a7959bcf-75e6-4828-ab8a-b2abaaef6620",
   "metadata": {},
   "source": [
    "## Problem \n",
    "\n",
    "\n",
    "In this notebook, we'll focus on solving the following problem:\n",
    "\n",
    "> **QUESTION 1**: As a senior backend engineer at Jovian, you are tasked with developing a fast in-memory data structure to manage profile information (username, name and email) for 100 million users. It should allow the following operations to be performed efficiently:\n",
    "> \n",
    "> 1. **Insert** the profile information for a new user.\n",
    "> 2. **Find** the profile information of a user, given their username\n",
    "> 3. **Update** the profile information of a user, given their usrname\n",
    "> 5. **List** all the users of the platform, sorted by username\n",
    ">\n",
    "> You can assume that usernames are unique. \n"
   ]
  },
  {
   "cell_type": "markdown",
   "id": "f104e9b6-2d77-41da-886a-b83484d3d7a8",
   "metadata": {},
   "source": [
    "<hr>\n",
    "\n",
    "#### Problem\n",
    "\n",
    "> We need to create a data structure which can store 100 million records and perform insertion, search, update and list operations efficiently.\n",
    "\n",
    "#### Input\n",
    "\n",
    "The key inputs to our data structure are user profiles, which contain the username, name and email of a user. \n",
    "\n",
    "A Python _class_ would be a great way to represent the information for a user. A class is a blueprint for creating _objects_. Everything in Python is an _object_ belonging to some _class_. Here's the simples possible class in Python, with nothing in it:"
   ]
  },
  {
   "cell_type": "code",
   "execution_count": 2,
   "id": "9c1570ab-0265-4eab-892a-aa84e65962ce",
   "metadata": {},
   "outputs": [],
   "source": [
    "class User:\n",
    "                                                                                                                                                                                                                                pass"
   ]
  },
  {
   "cell_type": "code",
   "execution_count": 3,
   "id": "5dda2d97-4501-4f42-b506-3477d6b394d2",
   "metadata": {},
   "outputs": [],
   "source": [
    "user1=User()"
   ]
  },
  {
   "cell_type": "code",
   "execution_count": 4,
   "id": "1a989fb2-3b75-4ea9-955b-5a54eba6a32a",
   "metadata": {},
   "outputs": [
    {
     "data": {
      "text/plain": [
       "__main__.User"
      ]
     },
     "execution_count": 4,
     "metadata": {},
     "output_type": "execute_result"
    }
   ],
   "source": [
    "type(user1)"
   ]
  },
  {
   "cell_type": "markdown",
   "id": "02d2f835-aee9-4522-9320-d1f8c8e45177",
   "metadata": {},
   "source": [
    "The object `user1` does not contain any useful information. Let's add a _constructor method_ to the class to store some _attributes_ or _properties_."
   ]
  },
  {
   "cell_type": "code",
   "execution_count": 5,
   "id": "87d0a20a-b699-4c9c-b2b7-0810675e0741",
   "metadata": {},
   "outputs": [],
   "source": [
    "class User:\n",
    "    def __init__(self,username, name, email):\n",
    "        self.username = username\n",
    "        self.name = name\n",
    "        self.email = email\n",
    "        print('User created!')"
   ]
  },
  {
   "cell_type": "code",
   "execution_count": 6,
   "id": "c140ed99-1e77-4f3b-9319-69730049d14e",
   "metadata": {},
   "outputs": [
    {
     "name": "stdout",
     "output_type": "stream",
     "text": [
      "User created!\n"
     ]
    }
   ],
   "source": [
    "user1=User(\"meesra_\", \"Shubham Mishra\",\"shubhamatiet841@gmail.com\")"
   ]
  },
  {
   "cell_type": "code",
   "execution_count": 7,
   "id": "d66f3904-e095-441b-9916-9381de50492f",
   "metadata": {},
   "outputs": [
    {
     "data": {
      "text/plain": [
       "'meesra_'"
      ]
     },
     "execution_count": 7,
     "metadata": {},
     "output_type": "execute_result"
    }
   ],
   "source": [
    "user1.username"
   ]
  },
  {
   "cell_type": "code",
   "execution_count": 8,
   "id": "04548246-fbee-4862-838e-54fb8b5dc8a8",
   "metadata": {},
   "outputs": [
    {
     "data": {
      "text/plain": [
       "'Shubham Mishra'"
      ]
     },
     "execution_count": 8,
     "metadata": {},
     "output_type": "execute_result"
    }
   ],
   "source": [
    "user1.name"
   ]
  },
  {
   "cell_type": "code",
   "execution_count": 9,
   "id": "4e8e465b-97d2-4dd7-a2bc-c3f9560964e8",
   "metadata": {},
   "outputs": [
    {
     "data": {
      "text/plain": [
       "'shubhamatiet841@gmail.com'"
      ]
     },
     "execution_count": 9,
     "metadata": {},
     "output_type": "execute_result"
    }
   ],
   "source": [
    "user1.email"
   ]
  },
  {
   "cell_type": "markdown",
   "id": "6911d2d7-d7cd-484c-8b67-e94333c74160",
   "metadata": {},
   "source": [
    "Here's what's happening above (conceptually):\n",
    "\n",
    "- Python creates an empty object of the type user and stores in the variable `user2`\n",
    "- Python then invokes the function `User.___init__` with the arguments `user2`, `\"john\"`, `\"John Doe\"` and `\"john@doe.com\"`\n",
    "- As the `__init__` function is executed, the properties `username`, `name` and `email` are set on the object `user2`"
   ]
  },
  {
   "cell_type": "code",
   "execution_count": 10,
   "id": "8ead6a19-63e7-4c65-9d5c-83114c38a9b7",
   "metadata": {},
   "outputs": [],
   "source": [
    "class User:\n",
    "    def __init__(self,username, name, email):\n",
    "        self.username = username\n",
    "        self.name = name\n",
    "        self.email = email\n",
    "        print('User created!')\n",
    "    def introduce_yourself(self, guest):\n",
    "        print(f\"Hi {guest}! My name is {self.name}. My user id is {self.username} and my mailing address is {self.email}\")"
   ]
  },
  {
   "cell_type": "code",
   "execution_count": 11,
   "id": "2d68e057-06b6-432c-8c81-45ed727d9787",
   "metadata": {},
   "outputs": [
    {
     "name": "stdout",
     "output_type": "stream",
     "text": [
      "User created!\n"
     ]
    }
   ],
   "source": [
    "user1=User(\"meesra_\", \"Shubham Mishra\",\"shubhamatiet841@gmail.com\")"
   ]
  },
  {
   "cell_type": "code",
   "execution_count": 12,
   "id": "837c8cc5-f8bd-4905-9407-25f4326ac423",
   "metadata": {},
   "outputs": [
    {
     "name": "stdout",
     "output_type": "stream",
     "text": [
      "Hi Priyanka! My name is Shubham Mishra. My user id is meesra_ and my mailing address is shubhamatiet841@gmail.com\n"
     ]
    }
   ],
   "source": [
    "user1.introduce_yourself(\"Priyanka\")"
   ]
  },
  {
   "cell_type": "code",
   "execution_count": 13,
   "id": "4d05bea0-6850-4dea-8595-c3640b2ef906",
   "metadata": {},
   "outputs": [
    {
     "name": "stdout",
     "output_type": "stream",
     "text": [
      "User created!\n"
     ]
    }
   ],
   "source": [
    "user2 = User('jane', 'Jane Doe', 'jane@doe.com')"
   ]
  },
  {
   "cell_type": "markdown",
   "id": "a64fe571-a2c4-4d0c-a67b-5d0b80705e10",
   "metadata": {},
   "source": [
    "<hr>\n",
    "\n",
    "When we try to invoke the method `user2.introduce_yourself`, the object `user2` is automatically passed as the first argument `self`. Indeed, the following statement is equivalent to the above statement."
   ]
  },
  {
   "cell_type": "code",
   "execution_count": 14,
   "id": "5c20af6c-ed56-4036-8bac-0e145631956d",
   "metadata": {},
   "outputs": [
    {
     "name": "stdout",
     "output_type": "stream",
     "text": [
      "Hi David! My name is Jane Doe. My user id is jane and my mailing address is jane@doe.com\n"
     ]
    }
   ],
   "source": [
    "User.introduce_yourself(user2, 'David')"
   ]
  },
  {
   "cell_type": "code",
   "execution_count": 15,
   "id": "ce3a03ec-e353-4ccd-9934-60f63d98bbbb",
   "metadata": {},
   "outputs": [
    {
     "name": "stdout",
     "output_type": "stream",
     "text": [
      "Hi David! My name is Jane Doe. My user id is jane and my mailing address is jane@doe.com\n"
     ]
    }
   ],
   "source": [
    "user2.introduce_yourself('David')"
   ]
  },
  {
   "cell_type": "code",
   "execution_count": 16,
   "id": "839222e0-7c01-43e8-a61b-cf88a14892ec",
   "metadata": {},
   "outputs": [],
   "source": [
    "class User:\n",
    "    def __init__(self, username, name, email):\n",
    "        self.username = username\n",
    "        self.name = name\n",
    "        self.email = email\n",
    "        \n",
    "    def __repr__(self):\n",
    "        return \"User(username='{}', name='{}', email='{}')\".format(self.username, self.name, self.email)\n",
    "    \n",
    "    def __str__(self):\n",
    "        return self.__repr__()"
   ]
  },
  {
   "cell_type": "code",
   "execution_count": 17,
   "id": "7348088d-7805-416b-b699-1117f7e207f5",
   "metadata": {},
   "outputs": [],
   "source": [
    "user3=User('jane', 'Jane Doe', 'jane@doe.com')"
   ]
  },
  {
   "cell_type": "code",
   "execution_count": 18,
   "id": "9661c150-6b95-478e-856b-17dcef93d875",
   "metadata": {},
   "outputs": [
    {
     "data": {
      "text/plain": [
       "User(username='jane', name='Jane Doe', email='jane@doe.com')"
      ]
     },
     "execution_count": 18,
     "metadata": {},
     "output_type": "execute_result"
    }
   ],
   "source": [
    "user3"
   ]
  },
  {
   "cell_type": "markdown",
   "id": "ecc06b49-6b2c-4033-b2ee-d318be8c6647",
   "metadata": {},
   "source": [
    "### user3 vs user2; the difference is due to __repr__ function"
   ]
  },
  {
   "cell_type": "code",
   "execution_count": 19,
   "id": "a8116f7a-4133-45d7-9442-4fd8b01f03d9",
   "metadata": {},
   "outputs": [
    {
     "data": {
      "text/plain": [
       "<__main__.User at 0x15018e21550>"
      ]
     },
     "execution_count": 19,
     "metadata": {},
     "output_type": "execute_result"
    }
   ],
   "source": [
    "user2"
   ]
  },
  {
   "cell_type": "markdown",
   "id": "66892886-f8f3-4429-aa35-a1e1811714cf",
   "metadata": {},
   "source": [
    "## Now outlining the structure of our UserDatabase class:"
   ]
  },
  {
   "cell_type": "code",
   "execution_count": 20,
   "id": "394124d2-bee5-4815-895e-3d292d9617e0",
   "metadata": {},
   "outputs": [],
   "source": [
    "class UserDatabase:\n",
    "    def insert(self, user):\n",
    "        pass\n",
    "    \n",
    "    def find(self, username):\n",
    "        pass\n",
    "    \n",
    "    def update(self, user):\n",
    "        pass\n",
    "        \n",
    "    def list_all(self):\n",
    "        pass"
   ]
  },
  {
   "cell_type": "markdown",
   "id": "0eda18e8-1797-4e30-944f-a18253545c92",
   "metadata": {},
   "source": [
    "`Some examples of what entries look like:`"
   ]
  },
  {
   "cell_type": "markdown",
   "id": "efe67055-f510-48dc-bb88-f887de15ad21",
   "metadata": {},
   "source": [
    "**Defining a list of users:**"
   ]
  },
  {
   "cell_type": "markdown",
   "id": "8c340bf1-fd9c-49d4-b79e-39b4678f12dd",
   "metadata": {},
   "source": [
    "Here's a simple and easy solution to the problem: we store the `User` objects in a list sorted by usernames. \n",
    "\n",
    "The various functions can be implemented as follows:\n",
    "\n",
    "1. **Insert**: Loop through the list and add the new user at a position that keeps the list sorted.\n",
    "2. **Find**: Loop through the list and find the user object with the username matching the query.\n",
    "3. **Update**: Loop through the list, find the user object matching the query and update the details\n",
    "4. **List**: Return the list of user objects.\n",
    "\n",
    "We can use the fact usernames, which are are strings can be compared using the `<`, `>` and `==` operators in Python."
   ]
  },
  {
   "cell_type": "code",
   "execution_count": 21,
   "id": "d75295c2-d9cd-4348-a571-2f2efd57d23b",
   "metadata": {},
   "outputs": [],
   "source": [
    "class User:\n",
    "    def __init__(self,username, name, email):\n",
    "        self.username = username\n",
    "        self.name = name\n",
    "        self.email = email\n",
    "#         print('User created!')"
   ]
  },
  {
   "cell_type": "code",
   "execution_count": 22,
   "id": "e83981ad-7c4f-4c64-9e68-00cb68256dd9",
   "metadata": {},
   "outputs": [],
   "source": [
    "aakash = User('aakash', 'Aakash Rai', 'aakash@example.com')\n",
    "biraj = User('biraj', 'Biraj Das', 'biraj@example.com')\n",
    "hemanth = User('hemanth', 'Hemanth Jain', 'hemanth@example.com')\n",
    "jadhesh = User('jadhesh', 'Jadhesh Verma', 'jadhesh@example.com')\n",
    "siddhant = User('siddhant', 'Siddhant Sinha', 'siddhant@example.com')\n",
    "sonaksh = User('sonaksh', 'Sonaksh Kumar', 'sonaksh@example.com')\n",
    "vishal = User('vishal', 'Vishal Goel', 'vishal@example.com')"
   ]
  },
  {
   "cell_type": "code",
   "execution_count": 23,
   "id": "6ed40ed4-253c-47d4-8b7e-e8be3883bb3c",
   "metadata": {},
   "outputs": [],
   "source": [
    "list_users = [aakash, biraj, hemanth, jadhesh, siddhant, sonaksh, vishal]"
   ]
  },
  {
   "cell_type": "code",
   "execution_count": 37,
   "id": "0cc9ff2d-dcea-41ca-91e5-fd7584d27ce7",
   "metadata": {},
   "outputs": [],
   "source": [
    "class UserDatabase:\n",
    "    def __init__(self, users):\n",
    "        self.users=users\n",
    "    \n",
    "    def insert(self, user):  # user is the object of User class\n",
    "        \n",
    "        if len(self.users)==0:\n",
    "            self.users.append(user)\n",
    "            print('User are:',self.users)\n",
    "            \n",
    "            \n",
    "        else:\n",
    "            target=self.find(user.username)\n",
    "            if target==\"Not found\":\n",
    "                i=0\n",
    "                while i<len(users):\n",
    "                    if self.users[i].username>user.username:\n",
    "                        break\n",
    "                    i += 1\n",
    "                users.insert(i,user)\n",
    "                \n",
    "            else:\n",
    "                print(\"User already present\")\n",
    "\n",
    "    def find(self, username):\n",
    "        if len(self.users) != 0:\n",
    "            i=0\n",
    "            for user in self.users:\n",
    "                if user.username==username:\n",
    "                    return user\n",
    "                else:\n",
    "                    i = i+1\n",
    "                    #print(\"Not found yet and i is \", i)\n",
    "            if i ==len(self.users):\n",
    "                return \"Not found\"\n",
    "    \n",
    "    def update(self, user):\n",
    "        target=self.find(user.username)\n",
    "        \n",
    "        if target==\"Not found\":\n",
    "            print(\"There is no such user, can't update!\")\n",
    "        else:\n",
    "            target.name, target.email = user.name, user.email\n",
    "        \n",
    "        \n",
    "    def list_all(self):\n",
    "        return self.users"
   ]
  },
  {
   "cell_type": "code",
   "execution_count": 38,
   "id": "b6d01c94-7935-4de8-bfb5-f3e68cd4b35f",
   "metadata": {},
   "outputs": [
    {
     "name": "stdout",
     "output_type": "stream",
     "text": [
      "User are: [<__main__.User object at 0x0000015018E724F0>]\n"
     ]
    }
   ],
   "source": [
    "users=[]\n",
    "record=UserDatabase(users)\n",
    "for user in list_users:\n",
    "    record.insert(user)\n",
    "\n"
   ]
  },
  {
   "cell_type": "code",
   "execution_count": 39,
   "id": "67afea3e-d75a-4393-b525-699fd9059f1d",
   "metadata": {},
   "outputs": [
    {
     "name": "stdout",
     "output_type": "stream",
     "text": [
      "Name of the person is: Aakash Rai, email of the person is: aakash@example.com and username of the person is: aakash\n",
      "Name of the person is: Biraj Das, email of the person is: biraj@example.com and username of the person is: biraj\n",
      "Name of the person is: Hemanth Jain, email of the person is: hemanth@example.com and username of the person is: hemanth\n",
      "Name of the person is: Jadhesh Sharma, email of the person is: jadhesharma@example.com and username of the person is: jadhesh\n",
      "Name of the person is: Siddhant Sinha, email of the person is: siddhant@example.com and username of the person is: siddhant\n",
      "Name of the person is: Sonaksh Kumar, email of the person is: sonaksh@example.com and username of the person is: sonaksh\n",
      "Name of the person is: Vishal Goel, email of the person is: vishal@example.com and username of the person is: vishal\n"
     ]
    }
   ],
   "source": [
    "for entry in record.list_all():\n",
    "    print(f'Name of the person is: {entry.name}, email of the person is: {entry.email} and username of the person is: {entry.username}')"
   ]
  },
  {
   "cell_type": "code",
   "execution_count": 40,
   "id": "85150b88-de71-4cd4-a9e9-cb87e8ffb728",
   "metadata": {},
   "outputs": [],
   "source": [
    "ob1=User('jadhesh', 'Jadhesh Sharma', 'jadhesharma@example.com')\n",
    "record.update(ob1)"
   ]
  },
  {
   "cell_type": "code",
   "execution_count": 41,
   "id": "89eb60b3-46ac-4283-8c74-0f0f8aa1735b",
   "metadata": {},
   "outputs": [
    {
     "data": {
      "text/plain": [
       "'jadhesharma@example.com'"
      ]
     },
     "execution_count": 41,
     "metadata": {},
     "output_type": "execute_result"
    }
   ],
   "source": [
    "record.users[3].email"
   ]
  },
  {
   "cell_type": "code",
   "execution_count": 42,
   "id": "90e70089-0595-46b0-adc0-7897b69637ae",
   "metadata": {},
   "outputs": [
    {
     "data": {
      "text/plain": [
       "'Not found'"
      ]
     },
     "execution_count": 42,
     "metadata": {},
     "output_type": "execute_result"
    }
   ],
   "source": [
    "record.find(\"jabba\")"
   ]
  },
  {
   "cell_type": "code",
   "execution_count": 43,
   "id": "48443bb8-4ed0-4506-b2fd-1b5e2cb7b5ae",
   "metadata": {},
   "outputs": [
    {
     "name": "stdout",
     "output_type": "stream",
     "text": [
      "There is no such user, can't update!\n"
     ]
    }
   ],
   "source": [
    "Jabba=User(\"Jabba\",\"Jabbesh Kumar\", \"jabbesh123@gmail.com\")\n",
    "record.update(Jabba)"
   ]
  },
  {
   "cell_type": "code",
   "execution_count": 44,
   "id": "31ac0ca8-e5be-4212-884c-c75a72d5f8f2",
   "metadata": {},
   "outputs": [
    {
     "data": {
      "text/plain": [
       "'Jabba'"
      ]
     },
     "execution_count": 44,
     "metadata": {},
     "output_type": "execute_result"
    }
   ],
   "source": [
    "Jabba.username"
   ]
  },
  {
   "cell_type": "code",
   "execution_count": null,
   "id": "d5607628-742d-4643-a999-9b3be7cf7193",
   "metadata": {},
   "outputs": [],
   "source": []
  }
 ],
 "metadata": {
  "kernelspec": {
   "display_name": "Python 3",
   "language": "python",
   "name": "python3"
  },
  "language_info": {
   "codemirror_mode": {
    "name": "ipython",
    "version": 3
   },
   "file_extension": ".py",
   "mimetype": "text/x-python",
   "name": "python",
   "nbconvert_exporter": "python",
   "pygments_lexer": "ipython3",
   "version": "3.8.5"
  }
 },
 "nbformat": 4,
 "nbformat_minor": 5
}
