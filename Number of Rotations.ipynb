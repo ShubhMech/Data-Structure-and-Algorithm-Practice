{
 "cells": [
  {
   "cell_type": "markdown",
   "id": "af3934ea-467d-4dc2-ae5f-bdbd0393e448",
   "metadata": {},
   "source": [
    "If the element at the start of the list is the biggest and there is no other element that is bigger than this, we get ourselves the # of **Rotations**"
   ]
  },
  {
   "cell_type": "code",
   "execution_count": 149,
   "id": "8aa3345e-2984-4396-b350-c403c4a9c80f",
   "metadata": {},
   "outputs": [],
   "source": [
    "def rotated_list(a):\n",
    "    if len(a)!=0:\n",
    "        a0=a[0]\n",
    "        pos=0\n",
    "        for i in range(0,len(a)):\n",
    "            if a0>=a[i]:\n",
    "                pos= pos+1\n",
    "                #print(pos)\n",
    "        if pos==len(a):\n",
    "            print(\"There is no rotation possible\")\n",
    "        elif pos<len(a):\n",
    "            print('The number of rotations are:',  len(a)-pos)\n",
    "        return len(a)-pos\n",
    "    \n",
    "    else:\n",
    "        return 0\n",
    "\n",
    "    "
   ]
  },
  {
   "cell_type": "code",
   "execution_count": 137,
   "id": "8d6da5e1-e924-4562-85cc-a52ca5a2e5fd",
   "metadata": {},
   "outputs": [],
   "source": [
    "a=[5,4,3,2,1,10,9,8,7,6]   \n",
    "b=[1,2]\n",
    "c=[2,1]\n",
    "d=[10,9,8,7,6,5,4,3,2,1]\n",
    "e=[9,8,7,6,5,4,3,2,1,100,99,98,97,95,94,93,92,91,87,86,83,82,78,77,76,75,74,73,72,71,67,66,65,64,63]\n",
    "f=[6,5,4,3,2,1,10,9,8,7]\n",
    "g=[]\n",
    "h=[3,2,1,10,9,8,7,6,5,4]\n",
    "i=[1,3,2]\n"
   ]
  },
  {
   "cell_type": "code",
   "execution_count": 151,
   "id": "699f1e75-b7da-4d44-a869-8221f3b4c958",
   "metadata": {},
   "outputs": [
    {
     "name": "stdout",
     "output_type": "stream",
     "text": [
      "The number of rotations are: 2\n"
     ]
    },
    {
     "data": {
      "text/plain": [
       "2"
      ]
     },
     "execution_count": 151,
     "metadata": {},
     "output_type": "execute_result"
    }
   ],
   "source": [
    "rotated_list(i)"
   ]
  },
  {
   "cell_type": "code",
   "execution_count": 55,
   "id": "fa621980-7c21-4c1c-99e1-0595d6fa5c0d",
   "metadata": {},
   "outputs": [],
   "source": [
    "def bin_max(cards):\n",
    "    pos=0\n",
    "    start=0\n",
    "    #print('The index at start is:',start)\n",
    "    end=len(cards)-1\n",
    "    #print('The index at the end is:', end)\n",
    "    high=0\n",
    "    low=len(cards)-1\n",
    "\n",
    "    while True:\n",
    "        \n",
    "        pos +=1\n",
    "        print('pos is:',pos)\n",
    "        \n",
    "        if len(cards)==0 or len(cards)==1:\n",
    "            print('No rotations are possible as the length is:', len(cards))\n",
    "            break\n",
    "            \n",
    "        elif len(cards)==2:\n",
    "            print('Length is 2')\n",
    "            if cards[low]<cards[high]:\n",
    "#                 print('The first ')\n",
    "                print('Num of rotations is', 0)\n",
    "                break\n",
    "            else:\n",
    "                print('1 rotation has been made')\n",
    "                break\n",
    "            \n",
    "        else:\n",
    "            \n",
    "            if cards[0]>cards[-1]:\n",
    "                print('As the first number is bigger than the last one, so proceeding with this logic:')\n",
    "                print('No rotation is made')\n",
    "                break\n",
    "            else:\n",
    "                print('As the first number is not bigger than the last one, so proceeding with this logic:')\n",
    "                print(f\"the start index is {start} and the last end is {end}\")\n",
    "                mid=int((start+end)/2)\n",
    "                prev=(mid+len(cards)-1)%len(cards)\n",
    "                nex=(mid+1)%len(cards)\n",
    "                print(f\"The middle index is {mid}, the previous index is {prev} and the last index is {nex}\")\n",
    "                if cards[mid]>cards[nex] and cards[mid]>cards[prev]:\n",
    "                    print('Number of rotations are:', len(cards)-mid)\n",
    "                    break\n",
    "                elif cards[mid]<cards[high]:\n",
    "                    start=mid+1\n",
    "                elif cards[mid]>cards[low]:\n",
    "                    end=mid-1\n",
    "        "
   ]
  },
  {
   "cell_type": "code",
   "execution_count": 49,
   "id": "97bdb294-a0aa-4743-b772-245f7db9f73d",
   "metadata": {},
   "outputs": [
    {
     "name": "stdout",
     "output_type": "stream",
     "text": [
      "pos is: 1\n",
      "Length is 2\n",
      "1 rotation has been made\n"
     ]
    }
   ],
   "source": [
    "bin_max(b)"
   ]
  },
  {
   "cell_type": "code",
   "execution_count": 68,
   "id": "47af1d82-f35d-42fa-811b-dab8e0e9903c",
   "metadata": {},
   "outputs": [
    {
     "name": "stdout",
     "output_type": "stream",
     "text": [
      "pos is: 1\n",
      "As the first number is not bigger than the last one, so proceeding with this logic:\n",
      "the start index is 0 and the last end is 35\n",
      "The middle index is 17, the previous index is 16 and the last index is 18\n",
      "pos is: 2\n",
      "As the first number is not bigger than the last one, so proceeding with this logic:\n",
      "the start index is 0 and the last end is 16\n",
      "The middle index is 8, the previous index is 7 and the last index is 9\n",
      "pos is: 3\n",
      "As the first number is not bigger than the last one, so proceeding with this logic:\n",
      "the start index is 9 and the last end is 16\n",
      "The middle index is 12, the previous index is 11 and the last index is 13\n",
      "pos is: 4\n",
      "As the first number is not bigger than the last one, so proceeding with this logic:\n",
      "the start index is 9 and the last end is 11\n",
      "The middle index is 10, the previous index is 9 and the last index is 11\n",
      "pos is: 5\n",
      "As the first number is not bigger than the last one, so proceeding with this logic:\n",
      "the start index is 9 and the last end is 9\n",
      "The middle index is 9, the previous index is 8 and the last index is 10\n",
      "Number of rotations are: 27\n"
     ]
    }
   ],
   "source": [
    "bin_max(e)"
   ]
  },
  {
   "cell_type": "code",
   "execution_count": 50,
   "id": "9d321bbe-1523-4cb9-9cf9-a4d5a1477110",
   "metadata": {},
   "outputs": [
    {
     "name": "stdout",
     "output_type": "stream",
     "text": [
      "pos is: 1\n",
      "Length is 2\n",
      "Num of rotations is 0\n"
     ]
    }
   ],
   "source": [
    "bin_max(c)"
   ]
  },
  {
   "cell_type": "markdown",
   "id": "bb217da9-1c51-4d4b-955b-136d65ca4785",
   "metadata": {},
   "source": [
    "### Code without unnecessary print statements"
   ]
  },
  {
   "cell_type": "code",
   "execution_count": 119,
   "id": "8bc0adb0-58b1-4037-9e85-645dd473b63a",
   "metadata": {},
   "outputs": [],
   "source": [
    "def bin_max1(cards):\n",
    "    pos=0\n",
    "    start=0\n",
    "    \n",
    "    end=len(cards)-1\n",
    "    \n",
    "    high=0\n",
    "    low=len(cards)-1\n",
    "\n",
    "    while True:\n",
    "        \n",
    "        pos +=1\n",
    "        print('Number of iterations is:',pos)\n",
    "        \n",
    "        if len(cards)==0 or len(cards)==1:\n",
    "            print('No rotations are possible as the length is:', len(cards))\n",
    "            return 0\n",
    "            break\n",
    "            \n",
    "        elif len(cards)==2:\n",
    "            \n",
    "            if cards[low]<cards[high]:\n",
    "               \n",
    "                print('Num of rotations is', 0)\n",
    "                return 0\n",
    "                break\n",
    "            else:\n",
    "                print('1 rotation has been made')\n",
    "                return 1\n",
    "                break\n",
    "            \n",
    "        else:\n",
    "            \n",
    "            if cards[0]>cards[-1]:\n",
    "                 \n",
    "                print('No rotation is made')\n",
    "                return 0\n",
    "                break\n",
    "            else:\n",
    "                \n",
    "                mid=int((start+end)/2)\n",
    "                prev=(mid+len(cards)-1)%len(cards)\n",
    "                nex=(mid+1)%len(cards)\n",
    "             \n",
    "                if cards[mid]>cards[nex] and cards[mid]>cards[prev]:\n",
    "                    print('Number of rotations are:', len(cards)-mid)\n",
    "                    return len(cards)-mid\n",
    "                    break\n",
    "                elif cards[mid]<cards[high]:\n",
    "                    start=mid+1\n",
    "                elif cards[mid]>cards[low]:\n",
    "                    end=mid-1\n",
    "        "
   ]
  },
  {
   "cell_type": "code",
   "execution_count": 153,
   "id": "d91d6f3c-f436-4aa5-aaad-66e93a1dc2c2",
   "metadata": {},
   "outputs": [
    {
     "name": "stdout",
     "output_type": "stream",
     "text": [
      "Number of iterations is: 1\n",
      "Number of rotations are: 2\n"
     ]
    },
    {
     "data": {
      "text/plain": [
       "2"
      ]
     },
     "execution_count": 153,
     "metadata": {},
     "output_type": "execute_result"
    }
   ],
   "source": [
    "bin_max1(i)"
   ]
  },
  {
   "cell_type": "code",
   "execution_count": null,
   "id": "0a82790b-387f-4f8c-9d10-eb4580bdb49e",
   "metadata": {},
   "outputs": [],
   "source": []
  },
  {
   "cell_type": "code",
   "execution_count": null,
   "id": "9d1119ab-9b92-4e4f-951e-07d616cc483b",
   "metadata": {},
   "outputs": [],
   "source": []
  }
 ],
 "metadata": {
  "kernelspec": {
   "display_name": "Python 3",
   "language": "python",
   "name": "python3"
  },
  "language_info": {
   "codemirror_mode": {
    "name": "ipython",
    "version": 3
   },
   "file_extension": ".py",
   "mimetype": "text/x-python",
   "name": "python",
   "nbconvert_exporter": "python",
   "pygments_lexer": "ipython3",
   "version": "3.8.5"
  }
 },
 "nbformat": 4,
 "nbformat_minor": 5
}
