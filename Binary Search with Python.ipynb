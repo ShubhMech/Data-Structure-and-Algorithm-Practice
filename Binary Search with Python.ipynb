{
 "cells": [
  {
   "cell_type": "markdown",
   "id": "bd241115-9a1b-44d8-8afc-96b265b65cef",
   "metadata": {},
   "source": [
    "### 1.Problem \n",
    "\n",
    "This course takes a coding-focused approach towards learning. In each notebook, we'll focus on solving one problem, and learn the techniques, algorithms, and data structures to devise an *efficient* solution. We will then generalize the technique and apply it to other problems.\n",
    "\n",
    "\n",
    "\n",
    "In this notebook, we focus on solving the following problem:\n",
    "\n",
    "> **QUESTION 1:** Alice has some cards with numbers written on them. She arranges the cards in decreasing order, and lays them out face down in a sequence on a table. She challenges Bob to pick out the card containing a given number by turning over as few cards as possible. Write a function to help Bob locate the card.\n",
    "\n",
    "<img src=\"https://i.imgur.com/mazym6s.png\" width=\"480\">\n",
    "\n",
    "This may seem like a simple problem, especially if you're familiar with the concept of _binary search_, but the strategy and technique we learning here will be widely applicable, and we'll soon use it to solve harder problems."
   ]
  },
  {
   "cell_type": "markdown",
   "id": "8b67a102-0db6-493d-b0f1-e6f01cab737b",
   "metadata": {},
   "source": [
    "### 2. Come up with some example inputs & outputs. Try to cover all edge cases."
   ]
  },
  {
   "cell_type": "code",
   "execution_count": 3,
   "id": "009e8354-f5be-460b-8258-2c37ce6bf890",
   "metadata": {},
   "outputs": [],
   "source": [
    "# query occurs in the middle\n",
    "tests=[]\n",
    "# test= {\n",
    "#     'input': {\n",
    "#         'cards': [13, 11, 10, 7, 4, 3, 1, 0],\n",
    "#         'query': 1\n",
    "#     }}\n",
    "    \n",
    "# tests.append(test)\n",
    "\n",
    "tests.append({\n",
    "    'input': {\n",
    "        'cards': [13, 11, 10, 7, 4, 3, 1, 0],\n",
    "        'query': 1\n",
    "    },\n",
    "    'output': 6\n",
    "})"
   ]
  },
  {
   "cell_type": "code",
   "execution_count": 4,
   "id": "8ea76f3b-9c40-4ca0-9160-7f39771d80d3",
   "metadata": {},
   "outputs": [],
   "source": [
    "# query is the first element\n",
    "tests.append({\n",
    "    'input': {\n",
    "        'cards': [4, 2, 1, -1],\n",
    "        'query': 4\n",
    "    },\n",
    "    'output': 0\n",
    "})"
   ]
  },
  {
   "cell_type": "code",
   "execution_count": 5,
   "id": "7d47e352-676c-41f7-ad39-8ab95ee0f284",
   "metadata": {},
   "outputs": [],
   "source": [
    "# query is the last element\n",
    "tests.append({\n",
    "    'input': {\n",
    "        'cards': [3, -1, -9, -127],\n",
    "        'query': -127\n",
    "    },\n",
    "    'output': 3\n",
    "})"
   ]
  },
  {
   "cell_type": "code",
   "execution_count": 6,
   "id": "939796d7-f621-410e-86bf-f0ea4e346bb6",
   "metadata": {},
   "outputs": [],
   "source": [
    "# cards contains just one element, query\n",
    "tests.append({\n",
    "    'input': {\n",
    "        'cards': [6],\n",
    "        'query': 6\n",
    "    },\n",
    "    'output': 0 \n",
    "})"
   ]
  },
  {
   "cell_type": "markdown",
   "id": "cf2af8fa-18b8-41c7-963b-be6a75af98bc",
   "metadata": {},
   "source": [
    "The problem statement does not specify what to do if the list `cards` does not contain the number `query`. \n",
    "\n",
    "1. Read the problem statement again, carefully.\n",
    "2. Look through the examples provided with the problem.\n",
    "3. Ask the interviewer/platform for a clarification.\n",
    "4. Make a reasonable assumption, state it and move forward.\n",
    "\n",
    "We will assume that our function will return `-1` in case `cards` does not contain `query`."
   ]
  },
  {
   "cell_type": "markdown",
   "id": "2406478a-5889-4c71-862f-623c462b04fa",
   "metadata": {},
   "source": [
    "`ygdsyb`"
   ]
  },
  {
   "cell_type": "code",
   "execution_count": 7,
   "id": "92dee724-1cf9-416e-a6da-79e5421c9cf1",
   "metadata": {},
   "outputs": [
    {
     "data": {
      "text/plain": [
       "[{'input': {'cards': [13, 11, 10, 7, 4, 3, 1, 0], 'query': 1}, 'output': 6},\n",
       " {'input': {'cards': [4, 2, 1, -1], 'query': 4}, 'output': 0},\n",
       " {'input': {'cards': [3, -1, -9, -127], 'query': -127}, 'output': 3},\n",
       " {'input': {'cards': [6], 'query': 6}, 'output': 0}]"
      ]
     },
     "execution_count": 7,
     "metadata": {},
     "output_type": "execute_result"
    }
   ],
   "source": [
    "tests"
   ]
  },
  {
   "cell_type": "code",
   "execution_count": 8,
   "id": "299a3f31-59fc-4b5e-8ac5-d0e31ef43776",
   "metadata": {},
   "outputs": [
    {
     "data": {
      "text/plain": [
       "[4, 2, 1, -1]"
      ]
     },
     "execution_count": 8,
     "metadata": {},
     "output_type": "execute_result"
    }
   ],
   "source": [
    "tests[1]['input']['cards']"
   ]
  },
  {
   "cell_type": "markdown",
   "id": "abe3c56f-0d26-47fb-b59a-096dc0377e67",
   "metadata": {},
   "source": [
    "### 3. Come up with a correct solution for the problem\n",
    "Our first goal should always be to come up with a _correct_ solution to the problem, which may necessarily be the most _efficient_ solution. The simplest or most obvious solution to a problem, which generally involves checking all possible answers is called the _brute force_ solution.\n",
    "\n",
    "In this problem, coming up with a correct solution is quite easy: Bob can simply turn over cards in order one by one, till he find a card with the given number on it. Here's how we might implement it:\n",
    "\n",
    "1. Create a variable `position` with the value 0.\n",
    "3. Check whether the number at index `position` in `card` equals `query`.\n",
    "4. If it does, `position` is the answer and can be returned from the function\n",
    "5. If not, increment the value of `position` by 1, and repeat steps 2 to 5 till we reach the last position.\n",
    "6. If the number was not found, return `-1`."
   ]
  },
  {
   "cell_type": "code",
   "execution_count": 9,
   "id": "83636c92-bb33-4d8a-a1cc-8120afc922de",
   "metadata": {},
   "outputs": [],
   "source": [
    "def locate_card(cards, query):\n",
    "    position=0\n",
    "    while True:\n",
    "        if position==len(cards) :\n",
    "            #return(-1)\n",
    "            print('The card is not found:')\n",
    "            break\n",
    "        \n",
    "        for card in cards:\n",
    "\n",
    "            if card==query:\n",
    "                print('The cards are:','\\t',cards)\n",
    "                print('The queried card is:','\\t',query)\n",
    "                return (position)\n",
    "\n",
    "            else:\n",
    "                position += 1\n",
    "        "
   ]
  },
  {
   "cell_type": "code",
   "execution_count": 10,
   "id": "24970e58-48f8-4688-946d-9c892b91d083",
   "metadata": {},
   "outputs": [
    {
     "name": "stdout",
     "output_type": "stream",
     "text": [
      "The cards are: \t [13, 11, 10, 7, 4, 3, 1, 0]\n",
      "The queried card is: \t 1\n"
     ]
    },
    {
     "data": {
      "text/plain": [
       "6"
      ]
     },
     "execution_count": 10,
     "metadata": {},
     "output_type": "execute_result"
    }
   ],
   "source": [
    "cards=tests[0]['input']['cards']\n",
    "query=tests[0]['input']['query']\n",
    "\n",
    "locate_card(cards, query)"
   ]
  },
  {
   "cell_type": "code",
   "execution_count": 11,
   "id": "c94ffe13-07a2-4b9e-aca8-973d572d48ef",
   "metadata": {},
   "outputs": [
    {
     "name": "stdout",
     "output_type": "stream",
     "text": [
      "The cards are: \t [4, 2, 1, -1]\n",
      "The queried card is: \t 4\n"
     ]
    },
    {
     "data": {
      "text/plain": [
       "0"
      ]
     },
     "execution_count": 11,
     "metadata": {},
     "output_type": "execute_result"
    }
   ],
   "source": [
    "cards=tests[1]['input']['cards']\n",
    "query=tests[1]['input']['query']\n",
    "\n",
    "locate_card(cards, query)"
   ]
  },
  {
   "cell_type": "code",
   "execution_count": 12,
   "id": "8c5dbd74-0aac-4282-8a81-d64fe0a66663",
   "metadata": {},
   "outputs": [
    {
     "name": "stdout",
     "output_type": "stream",
     "text": [
      "The cards are: \t [3, -1, -9, -127]\n",
      "The queried card is: \t -127\n"
     ]
    },
    {
     "data": {
      "text/plain": [
       "3"
      ]
     },
     "execution_count": 12,
     "metadata": {},
     "output_type": "execute_result"
    }
   ],
   "source": [
    "cards=tests[2]['input']['cards']\n",
    "query=tests[2]['input']['query']\n",
    "\n",
    "locate_card(cards, query)"
   ]
  },
  {
   "cell_type": "code",
   "execution_count": 13,
   "id": "233d9220-ee94-4751-aaae-87c9a8abb4d0",
   "metadata": {},
   "outputs": [
    {
     "name": "stdout",
     "output_type": "stream",
     "text": [
      "The cards are: \t [6]\n",
      "The queried card is: \t 6\n"
     ]
    },
    {
     "data": {
      "text/plain": [
       "0"
      ]
     },
     "execution_count": 13,
     "metadata": {},
     "output_type": "execute_result"
    }
   ],
   "source": [
    "cards=tests[3]['input']['cards']\n",
    "query=tests[3]['input']['query']\n",
    "locate_card(cards, query)\n"
   ]
  },
  {
   "cell_type": "markdown",
   "id": "b1674239-c8bd-4781-9148-f3dc7d8ec38d",
   "metadata": {},
   "source": [
    "## For our edgy cases:"
   ]
  },
  {
   "cell_type": "code",
   "execution_count": 14,
   "id": "acfac14e-952c-48dd-aadd-f4246764de54",
   "metadata": {},
   "outputs": [],
   "source": [
    "# cards does not contain query \n",
    "tests.append({\n",
    "    'input': {\n",
    "        'cards': [9, 7, 5, 2, -9],\n",
    "        'query': 4\n",
    "    },\n",
    "    'output': -1\n",
    "})"
   ]
  },
  {
   "cell_type": "code",
   "execution_count": 15,
   "id": "8f5018f1-a6bc-4d6b-a6b9-79ad3aea80a7",
   "metadata": {},
   "outputs": [],
   "source": [
    "# cards is empty\n",
    "tests.append({\n",
    "    'input': {\n",
    "        'cards': [],\n",
    "        'query': 7\n",
    "    },\n",
    "    'output': -1\n",
    "})"
   ]
  },
  {
   "cell_type": "code",
   "execution_count": 16,
   "id": "268ed65a-9912-4b9a-a064-1dacde4ad209",
   "metadata": {},
   "outputs": [
    {
     "name": "stdout",
     "output_type": "stream",
     "text": [
      "The card is not found:\n"
     ]
    }
   ],
   "source": [
    "cards=tests[4]['input']['cards']\n",
    "query=tests[4]['input']['query']\n",
    "locate_card(cards, query)\n"
   ]
  },
  {
   "cell_type": "code",
   "execution_count": 17,
   "id": "6e0aee76-914c-436e-bb66-d5bda123229f",
   "metadata": {},
   "outputs": [
    {
     "name": "stdout",
     "output_type": "stream",
     "text": [
      "The card is not found:\n"
     ]
    }
   ],
   "source": [
    "cards=tests[5]['input']['cards']\n",
    "query=tests[5]['input']['query']\n",
    "locate_card(cards, query)\n"
   ]
  },
  {
   "cell_type": "code",
   "execution_count": 18,
   "id": "f35db43e-c50f-4843-bab8-a5f30a4c384b",
   "metadata": {},
   "outputs": [],
   "source": [
    "# numbers can repeat in cards\n",
    "tests.append({\n",
    "    'input': {\n",
    "        'cards': [8, 8, 6, 6, 6, 6, 6, 3, 2, 2, 2, 0, 0, 0],\n",
    "        'query': 3\n",
    "    },\n",
    "    'output': 7\n",
    "})"
   ]
  },
  {
   "cell_type": "markdown",
   "id": "1b6c23e9-df46-43ba-a62b-29e5692f5fff",
   "metadata": {},
   "source": [
    "#### So modifying our funtion a bit more:"
   ]
  },
  {
   "cell_type": "code",
   "execution_count": 19,
   "id": "94c45d0a-42cf-4daa-8d79-1071d1be3530",
   "metadata": {},
   "outputs": [],
   "source": [
    "import numpy as np"
   ]
  },
  {
   "cell_type": "code",
   "execution_count": 20,
   "id": "1b5d80df-68b5-4fbf-b5b9-b87b32e60e29",
   "metadata": {},
   "outputs": [],
   "source": [
    "def locate_card(cards, query):\n",
    "    position=0\n",
    "    while True:\n",
    "        if position==len(np.unique(cards)) :\n",
    "            #return(-1)\n",
    "            print('The card is not found:')\n",
    "            break\n",
    "        \n",
    "        for card in np.unique(cards):\n",
    "\n",
    "            if card==query:\n",
    "                print('The cards are:','\\t',cards)\n",
    "                print('The queried card is:','\\t',query)\n",
    "                return (position)\n",
    "\n",
    "            else:\n",
    "                position += 1"
   ]
  },
  {
   "cell_type": "code",
   "execution_count": 21,
   "id": "9c35e830-ddc5-4310-b81d-0989bdaeb196",
   "metadata": {},
   "outputs": [
    {
     "data": {
      "text/plain": [
       "[{'input': {'cards': [13, 11, 10, 7, 4, 3, 1, 0], 'query': 1}, 'output': 6},\n",
       " {'input': {'cards': [4, 2, 1, -1], 'query': 4}, 'output': 0},\n",
       " {'input': {'cards': [3, -1, -9, -127], 'query': -127}, 'output': 3},\n",
       " {'input': {'cards': [6], 'query': 6}, 'output': 0},\n",
       " {'input': {'cards': [9, 7, 5, 2, -9], 'query': 4}, 'output': -1},\n",
       " {'input': {'cards': [], 'query': 7}, 'output': -1},\n",
       " {'input': {'cards': [8, 8, 6, 6, 6, 6, 6, 3, 2, 2, 2, 0, 0, 0], 'query': 3},\n",
       "  'output': 7}]"
      ]
     },
     "execution_count": 21,
     "metadata": {},
     "output_type": "execute_result"
    }
   ],
   "source": [
    "tests"
   ]
  },
  {
   "cell_type": "code",
   "execution_count": 22,
   "id": "b7582a67-07ac-40cb-82d4-9ba726700228",
   "metadata": {},
   "outputs": [
    {
     "name": "stdout",
     "output_type": "stream",
     "text": [
      "The card is not found:\n"
     ]
    }
   ],
   "source": [
    "cards=tests[-1]['input']['cards']\n",
    "query=tests[-1]['output']\n",
    "locate_card(cards, query)"
   ]
  },
  {
   "cell_type": "code",
   "execution_count": 23,
   "id": "bad9e8c0-65f1-4dda-9a4f-9be48f85e54d",
   "metadata": {},
   "outputs": [
    {
     "data": {
      "text/plain": [
       "7"
      ]
     },
     "execution_count": 23,
     "metadata": {},
     "output_type": "execute_result"
    }
   ],
   "source": [
    "query"
   ]
  },
  {
   "cell_type": "code",
   "execution_count": 24,
   "id": "83ef7831-928d-4131-ace6-b1494399555f",
   "metadata": {},
   "outputs": [
    {
     "data": {
      "text/plain": [
       "array([0, 2, 3, 6, 8])"
      ]
     },
     "execution_count": 24,
     "metadata": {},
     "output_type": "execute_result"
    }
   ],
   "source": [
    "np.unique(cards)"
   ]
  },
  {
   "cell_type": "markdown",
   "id": "7eb311f4-8cbc-4840-a92a-08acbfc800ac",
   "metadata": {},
   "source": []
  },
  {
   "cell_type": "markdown",
   "id": "29dd6ac5-de41-4c81-b138-005b23a2b335",
   "metadata": {},
   "source": [
    "### 6. Apply the right technique to overcome the inefficiency. Repeat steps 3 to 6.\n",
    "\n",
    "At the moment, we're simply going over cards one by one, and not even utilizing the face that they're sorted. This is called a *brute force* approach.\n",
    "\n",
    "It would be great if Bob could somehow guess the card at the first attempt, but with all the cards turned over it's simply impossible to guess the right card. \n",
    "\n",
    "\n",
    "<img src=\"https://i.imgur.com/mazym6s.png\" width=\"480\">\n",
    "\n",
    "The next best idea would be to pick a random card, and use the fact that the list is sorted, to determine whether the target card lies to the left or right of it. In fact, if we pick the middle card, we can reduce the number of additional cards to be tested to half the size of the list. Then, we can simply repeat the process with each half. This technique is called binary search. Here's a visual explanation of the technique:\n",
    "\n",
    "\n",
    "\n",
    "<img src=\"https://miro.medium.com/max/494/1*3eOrsoF9idyOp-0Ll9I9PA.png\" width=\"480\">"
   ]
  },
  {
   "cell_type": "code",
   "execution_count": 25,
   "id": "f1fb714b-d97e-45cc-92fc-ad0b19932657",
   "metadata": {},
   "outputs": [],
   "source": [
    "def binary_search(cards, query):\n",
    "    start=0\n",
    "    end=len(cards)\n",
    "        \n",
    "    while True:\n",
    "        \n",
    "        mid=int((start+end)/2)\n",
    "        print(start, mid,end)\n",
    "        if start==end:\n",
    "            if cards==query:\n",
    "                print('Found the card')\n",
    "                break\n",
    "            else:\n",
    "                print('Not Found')\n",
    "                return\n",
    "                break\n",
    "        \n",
    "        if cards[mid]==query:\n",
    "            print('Found the card at position:', mid)\n",
    "#             return mid\n",
    "            break\n",
    "        elif cards[mid]<query:\n",
    "            end=mid\n",
    "        else:\n",
    "            start=mid+1\n",
    "            \n",
    "        #cards=cards[start:end]\n",
    "        \n",
    "            \n",
    "        "
   ]
  },
  {
   "cell_type": "code",
   "execution_count": 26,
   "id": "172ffc7a-01d9-4e94-bf98-120bda972238",
   "metadata": {},
   "outputs": [
    {
     "name": "stdout",
     "output_type": "stream",
     "text": [
      "0 2 4\n",
      "0 1 2\n",
      "0 0 1\n",
      "Found the card at position: 0\n"
     ]
    }
   ],
   "source": [
    "cards=tests[1]['input']['cards']\n",
    "query=tests[1]['input']['query']\n",
    "\n",
    "binary_search(cards, query)"
   ]
  },
  {
   "cell_type": "code",
   "execution_count": 27,
   "id": "6e72b2a0-7acd-4f13-9534-3528234a5982",
   "metadata": {},
   "outputs": [
    {
     "data": {
      "text/plain": [
       "[4, 2, 1, -1]"
      ]
     },
     "execution_count": 27,
     "metadata": {},
     "output_type": "execute_result"
    }
   ],
   "source": [
    "cards"
   ]
  },
  {
   "cell_type": "code",
   "execution_count": 28,
   "id": "b7862d68-f79b-4ba9-b985-a117a3ea19ce",
   "metadata": {},
   "outputs": [
    {
     "data": {
      "text/plain": [
       "4"
      ]
     },
     "execution_count": 28,
     "metadata": {},
     "output_type": "execute_result"
    }
   ],
   "source": [
    "query"
   ]
  },
  {
   "cell_type": "code",
   "execution_count": 29,
   "id": "da54d3c6-368f-439e-8f78-8352bed02f35",
   "metadata": {},
   "outputs": [],
   "source": [
    "cards=tests[2]['input']['cards']\n",
    "query=tests[2]['input']['query']\n",
    "\n"
   ]
  },
  {
   "cell_type": "code",
   "execution_count": 30,
   "id": "50d0a832-034b-43ed-8f11-4197124164cb",
   "metadata": {},
   "outputs": [
    {
     "name": "stdout",
     "output_type": "stream",
     "text": [
      "0 2 4\n",
      "3 3 4\n",
      "Found the card at position: 3\n"
     ]
    }
   ],
   "source": [
    "binary_search(cards, query)\n"
   ]
  },
  {
   "cell_type": "code",
   "execution_count": 31,
   "id": "8b5d4335-12a8-42fd-928c-0b1c24c26712",
   "metadata": {},
   "outputs": [],
   "source": [
    "cards=tests[3]['input']['cards']\n",
    "query=tests[3]['input']['query']\n",
    "\n"
   ]
  },
  {
   "cell_type": "code",
   "execution_count": 32,
   "id": "455cf2e7-6497-4e8b-b060-1a1c03e94484",
   "metadata": {},
   "outputs": [
    {
     "name": "stdout",
     "output_type": "stream",
     "text": [
      "0 0 1\n",
      "Found the card at position: 0\n"
     ]
    }
   ],
   "source": [
    "binary_search(cards, query)\n"
   ]
  },
  {
   "cell_type": "code",
   "execution_count": 33,
   "id": "d6e3d9d5-ada7-4e7e-ad99-5eb3f8933e27",
   "metadata": {},
   "outputs": [],
   "source": [
    "cards=tests[4]['input']['cards']\n",
    "query=tests[4]['input']['query']"
   ]
  },
  {
   "cell_type": "code",
   "execution_count": 34,
   "id": "7836fa4d-cf7d-4414-b130-db70801acdc4",
   "metadata": {},
   "outputs": [
    {
     "name": "stdout",
     "output_type": "stream",
     "text": [
      "0 2 5\n",
      "3 4 5\n",
      "3 3 4\n",
      "3 3 3\n",
      "Not Found\n"
     ]
    }
   ],
   "source": [
    "binary_search(cards, query)"
   ]
  },
  {
   "cell_type": "code",
   "execution_count": 35,
   "id": "743f3a1e-3afb-4703-960d-fb467704dd1e",
   "metadata": {},
   "outputs": [],
   "source": [
    "cards=tests[5]['input']['cards']\n",
    "query=tests[5]['input']['query']"
   ]
  },
  {
   "cell_type": "code",
   "execution_count": 36,
   "id": "9571c62c-2751-4dfa-8b44-5353c3221db6",
   "metadata": {},
   "outputs": [
    {
     "name": "stdout",
     "output_type": "stream",
     "text": [
      "0 0 0\n",
      "Not Found\n"
     ]
    }
   ],
   "source": [
    "binary_search(cards, query)"
   ]
  },
  {
   "cell_type": "code",
   "execution_count": 37,
   "id": "f7f478fe-33d8-4ea3-8b8a-202747f98473",
   "metadata": {},
   "outputs": [
    {
     "data": {
      "text/plain": [
       "[]"
      ]
     },
     "execution_count": 37,
     "metadata": {},
     "output_type": "execute_result"
    }
   ],
   "source": [
    "cards\n"
   ]
  },
  {
   "cell_type": "code",
   "execution_count": 38,
   "id": "85f656ec-a8cd-4cde-9ffb-83b786e8b3d7",
   "metadata": {},
   "outputs": [
    {
     "data": {
      "text/plain": [
       "{'input': {'cards': [], 'query': 7}, 'output': -1}"
      ]
     },
     "execution_count": 38,
     "metadata": {},
     "output_type": "execute_result"
    }
   ],
   "source": [
    "tests[5]"
   ]
  },
  {
   "cell_type": "code",
   "execution_count": 39,
   "id": "c6fc92c1-90fc-4f9c-a2f5-d0fe1ab4d348",
   "metadata": {},
   "outputs": [],
   "source": [
    "cards=tests[6]['input']['cards']\n",
    "query=tests[6]['input']['query']"
   ]
  },
  {
   "cell_type": "code",
   "execution_count": 40,
   "id": "06c31b9e-b260-4740-a7ef-bcae8a37cd8d",
   "metadata": {},
   "outputs": [
    {
     "data": {
      "text/plain": [
       "[8, 8, 6, 6, 6, 6, 6, 3, 2, 2, 2, 0, 0, 0]"
      ]
     },
     "execution_count": 40,
     "metadata": {},
     "output_type": "execute_result"
    }
   ],
   "source": [
    "cards"
   ]
  },
  {
   "cell_type": "code",
   "execution_count": 41,
   "id": "7c3a3862-0a88-4ecf-9691-8bd47bc4e418",
   "metadata": {},
   "outputs": [
    {
     "data": {
      "text/plain": [
       "3"
      ]
     },
     "execution_count": 41,
     "metadata": {},
     "output_type": "execute_result"
    }
   ],
   "source": [
    "query"
   ]
  },
  {
   "cell_type": "markdown",
   "id": "f7d764b9-d408-4b32-8500-3a4d217463b1",
   "metadata": {},
   "source": [
    "### Making changes in the function to accommodate the last case of non unique cards:"
   ]
  },
  {
   "cell_type": "code",
   "execution_count": 42,
   "id": "fc69fcc5-3c18-441a-9294-5d14bfc4a45a",
   "metadata": {},
   "outputs": [],
   "source": [
    "import numpy as np"
   ]
  },
  {
   "cell_type": "code",
   "execution_count": 43,
   "id": "44f2eb10-5eb6-4146-bf5a-b6a9c8281d59",
   "metadata": {},
   "outputs": [],
   "source": [
    "def binary_search(cards, query):\n",
    "    cards=np.unique(cards)\n",
    "    cards=cards[::-1]\n",
    "    \n",
    "    print(cards)\n",
    "    start=0\n",
    "    end=len(cards)\n",
    "        \n",
    "    while True:\n",
    "        \n",
    "        mid=int((start+end)/2)\n",
    "        print(start, mid,end)\n",
    "        if start==end:\n",
    "            if cards==query:\n",
    "                print('Found the card')\n",
    "            else:\n",
    "                print('Not Found')\n",
    "                break\n",
    "        \n",
    "        if cards[mid]==query:\n",
    "            print('Found the card at position', mid)\n",
    "            #return mid\n",
    "            break\n",
    "        elif cards[mid]<query:\n",
    "            end=mid\n",
    "        else:\n",
    "            start=mid+1\n",
    "            \n",
    "        #cards=cards[start:end]\n",
    "        \n",
    "            "
   ]
  },
  {
   "cell_type": "code",
   "execution_count": 44,
   "id": "1345e9e0-2e32-4092-9f16-dcbfe7c6624c",
   "metadata": {},
   "outputs": [
    {
     "name": "stdout",
     "output_type": "stream",
     "text": [
      "[13 11 10  7  4  3  1  0]\n",
      "0 4 8\n",
      "5 6 8\n",
      "Found the card at position 6\n"
     ]
    }
   ],
   "source": [
    "cards=tests[0]['input']['cards']\n",
    "query=tests[0]['input']['query']\n",
    "binary_search(cards, query)\n"
   ]
  },
  {
   "cell_type": "code",
   "execution_count": 45,
   "id": "5c55405b-2764-404d-b745-9679d5017131",
   "metadata": {},
   "outputs": [
    {
     "data": {
      "text/plain": [
       "[13, 11, 10, 7, 4, 3, 1, 0]"
      ]
     },
     "execution_count": 45,
     "metadata": {},
     "output_type": "execute_result"
    }
   ],
   "source": [
    "cards"
   ]
  },
  {
   "cell_type": "code",
   "execution_count": 46,
   "id": "12ffcf33-9911-4afa-8aec-b405cb578fb8",
   "metadata": {},
   "outputs": [
    {
     "data": {
      "text/plain": [
       "1"
      ]
     },
     "execution_count": 46,
     "metadata": {},
     "output_type": "execute_result"
    }
   ],
   "source": [
    "query"
   ]
  },
  {
   "cell_type": "code",
   "execution_count": 47,
   "id": "48b35410-22ed-40d2-9281-65e7b594af6b",
   "metadata": {},
   "outputs": [],
   "source": [
    "cards=range(0,10001)\n",
    "cards=cards[::-1]"
   ]
  },
  {
   "cell_type": "code",
   "execution_count": 48,
   "id": "4a6de8a7-6f36-4e4a-ae29-1d540a117292",
   "metadata": {},
   "outputs": [],
   "source": [
    "query=np.random.randint(0,10001,1)"
   ]
  },
  {
   "cell_type": "code",
   "execution_count": 49,
   "id": "599b4a14-4a59-4f38-988c-2f9d61df3839",
   "metadata": {},
   "outputs": [
    {
     "name": "stdout",
     "output_type": "stream",
     "text": [
      "[10000  9999  9998 ...     2     1     0]\n",
      "0 5000 10001\n",
      "0 2500 5000\n",
      "0 1250 2500\n",
      "0 625 1250\n",
      "626 938 1250\n",
      "626 782 938\n",
      "626 704 782\n",
      "626 665 704\n",
      "666 685 704\n",
      "666 675 685\n",
      "666 670 675\n",
      "666 668 670\n",
      "669 669 670\n",
      "Found the card at position 669\n"
     ]
    }
   ],
   "source": [
    "binary_search(cards, query)"
   ]
  },
  {
   "cell_type": "code",
   "execution_count": 50,
   "id": "3548c402-ca4f-4587-bd46-2d7dc11a9610",
   "metadata": {},
   "outputs": [
    {
     "data": {
      "text/plain": [
       "array([9331])"
      ]
     },
     "execution_count": 50,
     "metadata": {},
     "output_type": "execute_result"
    }
   ],
   "source": [
    "query"
   ]
  },
  {
   "cell_type": "code",
   "execution_count": 51,
   "id": "d4680726-42c7-4310-9d4c-45599834b93f",
   "metadata": {},
   "outputs": [
    {
     "name": "stdout",
     "output_type": "stream",
     "text": [
      "The cards are: \t range(10000, -1, -1)\n",
      "The queried card is: \t [9331]\n"
     ]
    },
    {
     "data": {
      "text/plain": [
       "9331"
      ]
     },
     "execution_count": 51,
     "metadata": {},
     "output_type": "execute_result"
    }
   ],
   "source": [
    "locate_card(cards, query)"
   ]
  },
  {
   "cell_type": "code",
   "execution_count": 52,
   "id": "0448baaa-7ba1-49ea-92a0-7f2160670d2a",
   "metadata": {},
   "outputs": [
    {
     "data": {
      "text/plain": [
       "9331"
      ]
     },
     "execution_count": 52,
     "metadata": {},
     "output_type": "execute_result"
    }
   ],
   "source": [
    "_"
   ]
  }
 ],
 "metadata": {
  "kernelspec": {
   "display_name": "Python 3",
   "language": "python",
   "name": "python3"
  },
  "language_info": {
   "codemirror_mode": {
    "name": "ipython",
    "version": 3
   },
   "file_extension": ".py",
   "mimetype": "text/x-python",
   "name": "python",
   "nbconvert_exporter": "python",
   "pygments_lexer": "ipython3",
   "version": "3.8.5"
  }
 },
 "nbformat": 4,
 "nbformat_minor": 5
}
