{
 "cells": [
  {
   "cell_type": "markdown",
   "id": "bd241115-9a1b-44d8-8afc-96b265b65cef",
   "metadata": {},
   "source": [
    "### 1.Problem \n",
    "\n",
    "This course takes a coding-focused approach towards learning. In each notebook, we'll focus on solving one problem, and learn the techniques, algorithms, and data structures to devise an *efficient* solution. We will then generalize the technique and apply it to other problems.\n",
    "\n",
    "\n",
    "\n",
    "In this notebook, we focus on solving the following problem:\n",
    "\n",
    "> **QUESTION 1:** Alice has some cards with numbers written on them. She arranges the cards in decreasing order, and lays them out face down in a sequence on a table. She challenges Bob to pick out the card containing a given number by turning over as few cards as possible. Write a function to help Bob locate the card.\n",
    "\n",
    "<img src=\"https://i.imgur.com/mazym6s.png\" width=\"480\">\n",
    "\n",
    "This may seem like a simple problem, especially if you're familiar with the concept of _binary search_, but the strategy and technique we learning here will be widely applicable, and we'll soon use it to solve harder problems."
   ]
  },
  {
   "cell_type": "markdown",
   "id": "8b67a102-0db6-493d-b0f1-e6f01cab737b",
   "metadata": {},
   "source": [
    "### 2. Come up with some example inputs & outputs. Try to cover all edge cases."
   ]
  },
  {
   "cell_type": "code",
   "execution_count": 12,
   "id": "009e8354-f5be-460b-8258-2c37ce6bf890",
   "metadata": {},
   "outputs": [],
   "source": [
    "# query occurs in the middle\n",
    "tests=[]\n",
    "# test= {\n",
    "#     'input': {\n",
    "#         'cards': [13, 11, 10, 7, 4, 3, 1, 0],\n",
    "#         'query': 1\n",
    "#     }}\n",
    "    \n",
    "# tests.append(test)\n",
    "\n",
    "tests.append({\n",
    "    'input': {\n",
    "        'cards': [13, 11, 10, 7, 4, 3, 1, 0],\n",
    "        'query': 1\n",
    "    },\n",
    "    'output': 6\n",
    "})"
   ]
  },
  {
   "cell_type": "code",
   "execution_count": 14,
   "id": "8ea76f3b-9c40-4ca0-9160-7f39771d80d3",
   "metadata": {},
   "outputs": [],
   "source": [
    "# query is the first element\n",
    "tests.append({\n",
    "    'input': {\n",
    "        'cards': [4, 2, 1, -1],\n",
    "        'query': 4\n",
    "    },\n",
    "    'output': 0\n",
    "})"
   ]
  },
  {
   "cell_type": "code",
   "execution_count": 15,
   "id": "7d47e352-676c-41f7-ad39-8ab95ee0f284",
   "metadata": {},
   "outputs": [],
   "source": [
    "# query is the last element\n",
    "tests.append({\n",
    "    'input': {\n",
    "        'cards': [3, -1, -9, -127],\n",
    "        'query': -127\n",
    "    },\n",
    "    'output': 3\n",
    "})"
   ]
  },
  {
   "cell_type": "code",
   "execution_count": 16,
   "id": "939796d7-f621-410e-86bf-f0ea4e346bb6",
   "metadata": {},
   "outputs": [],
   "source": [
    "# cards contains just one element, query\n",
    "tests.append({\n",
    "    'input': {\n",
    "        'cards': [6],\n",
    "        'query': 6\n",
    "    },\n",
    "    'output': 0 \n",
    "})"
   ]
  },
  {
   "cell_type": "markdown",
   "id": "cf2af8fa-18b8-41c7-963b-be6a75af98bc",
   "metadata": {},
   "source": [
    "The problem statement does not specify what to do if the list `cards` does not contain the number `query`. \n",
    "\n",
    "1. Read the problem statement again, carefully.\n",
    "2. Look through the examples provided with the problem.\n",
    "3. Ask the interviewer/platform for a clarification.\n",
    "4. Make a reasonable assumption, state it and move forward.\n",
    "\n",
    "We will assume that our function will return `-1` in case `cards` does not contain `query`."
   ]
  },
  {
   "cell_type": "markdown",
   "id": "2406478a-5889-4c71-862f-623c462b04fa",
   "metadata": {},
   "source": [
    "`ygdsyb`"
   ]
  },
  {
   "cell_type": "code",
   "execution_count": 17,
   "id": "92dee724-1cf9-416e-a6da-79e5421c9cf1",
   "metadata": {},
   "outputs": [
    {
     "data": {
      "text/plain": [
       "[{'input': {'cards': [13, 11, 10, 7, 4, 3, 1, 0], 'query': 1}, 'output': 6},\n",
       " {'input': {'cards': [4, 2, 1, -1], 'query': 4}, 'output': 0},\n",
       " {'input': {'cards': [4, 2, 1, -1], 'query': 4}, 'output': 0},\n",
       " {'input': {'cards': [3, -1, -9, -127], 'query': -127}, 'output': 3},\n",
       " {'input': {'cards': [6], 'query': 6}, 'output': 0}]"
      ]
     },
     "execution_count": 17,
     "metadata": {},
     "output_type": "execute_result"
    }
   ],
   "source": [
    "tests"
   ]
  },
  {
   "cell_type": "code",
   "execution_count": 44,
   "id": "299a3f31-59fc-4b5e-8ac5-d0e31ef43776",
   "metadata": {},
   "outputs": [
    {
     "data": {
      "text/plain": [
       "[4, 2, 1, -1]"
      ]
     },
     "execution_count": 44,
     "metadata": {},
     "output_type": "execute_result"
    }
   ],
   "source": [
    "tests[1]['input']['cards']"
   ]
  },
  {
   "cell_type": "markdown",
   "id": "abe3c56f-0d26-47fb-b59a-096dc0377e67",
   "metadata": {},
   "source": [
    "### 3. Come up with a correct solution for the problem\n",
    "Our first goal should always be to come up with a _correct_ solution to the problem, which may necessarily be the most _efficient_ solution. The simplest or most obvious solution to a problem, which generally involves checking all possible answers is called the _brute force_ solution.\n",
    "\n",
    "In this problem, coming up with a correct solution is quite easy: Bob can simply turn over cards in order one by one, till he find a card with the given number on it. Here's how we might implement it:\n",
    "\n",
    "1. Create a variable `position` with the value 0.\n",
    "3. Check whether the number at index `position` in `card` equals `query`.\n",
    "4. If it does, `position` is the answer and can be returned from the function\n",
    "5. If not, increment the value of `position` by 1, and repeat steps 2 to 5 till we reach the last position.\n",
    "6. If the number was not found, return `-1`."
   ]
  },
  {
   "cell_type": "code",
   "execution_count": 89,
   "id": "83636c92-bb33-4d8a-a1cc-8120afc922de",
   "metadata": {},
   "outputs": [],
   "source": [
    "def locate_card(cards, query):\n",
    "    position=0\n",
    "    for card in cards:\n",
    "        if position==len(cards):\n",
    "            return(-1)\n",
    "        elif card==query:\n",
    "            print('The cards are:','\\t',cards)\n",
    "            print('The queried card is:','\\t',query)\n",
    "            return ('The required card is at position:',position)\n",
    "        \n",
    "        else:\n",
    "            position += 1\n",
    "        \n",
    "        \n",
    "    "
   ]
  },
  {
   "cell_type": "code",
   "execution_count": 90,
   "id": "24970e58-48f8-4688-946d-9c892b91d083",
   "metadata": {},
   "outputs": [
    {
     "name": "stdout",
     "output_type": "stream",
     "text": [
      "The cards are: \t [13, 11, 10, 7, 4, 3, 1, 0]\n",
      "The queried card is: \t 1\n"
     ]
    },
    {
     "data": {
      "text/plain": [
       "('The required card is at position:', 6)"
      ]
     },
     "execution_count": 90,
     "metadata": {},
     "output_type": "execute_result"
    }
   ],
   "source": [
    "cards=tests[0]['input']['cards']\n",
    "query=tests[0]['input']['query']\n",
    "\n",
    "locate_card(cards, query)"
   ]
  },
  {
   "cell_type": "code",
   "execution_count": 91,
   "id": "c94ffe13-07a2-4b9e-aca8-973d572d48ef",
   "metadata": {},
   "outputs": [
    {
     "name": "stdout",
     "output_type": "stream",
     "text": [
      "The cards are: \t [4, 2, 1, -1]\n",
      "The queried card is: \t 4\n"
     ]
    },
    {
     "data": {
      "text/plain": [
       "('The required card is at position:', 0)"
      ]
     },
     "execution_count": 91,
     "metadata": {},
     "output_type": "execute_result"
    }
   ],
   "source": [
    "cards=tests[1]['input']['cards']\n",
    "query=tests[1]['input']['query']\n",
    "\n",
    "locate_card(cards, query)"
   ]
  },
  {
   "cell_type": "code",
   "execution_count": 93,
   "id": "8c5dbd74-0aac-4282-8a81-d64fe0a66663",
   "metadata": {},
   "outputs": [
    {
     "name": "stdout",
     "output_type": "stream",
     "text": [
      "The cards are: \t [4, 2, 1, -1]\n",
      "The queried card is: \t 4\n"
     ]
    },
    {
     "data": {
      "text/plain": [
       "('The required card is at position:', 0)"
      ]
     },
     "execution_count": 93,
     "metadata": {},
     "output_type": "execute_result"
    }
   ],
   "source": [
    "cards=tests[2]['input']['cards']\n",
    "query=tests[2]['input']['query']\n",
    "\n",
    "locate_card(cards, query)"
   ]
  },
  {
   "cell_type": "code",
   "execution_count": 95,
   "id": "233d9220-ee94-4751-aaae-87c9a8abb4d0",
   "metadata": {},
   "outputs": [
    {
     "name": "stdout",
     "output_type": "stream",
     "text": [
      "The cards are: \t [3, -1, -9, -127]\n",
      "The queried card is: \t -127\n"
     ]
    },
    {
     "data": {
      "text/plain": [
       "('The required card is at position:', 3)"
      ]
     },
     "execution_count": 95,
     "metadata": {},
     "output_type": "execute_result"
    }
   ],
   "source": [
    "cards=tests[3]['input']['cards']\n",
    "query=tests[3]['input']['query']\n",
    "locate_card(cards, query)\n"
   ]
  },
  {
   "cell_type": "code",
   "execution_count": 101,
   "id": "dcffcb64-4e74-483d-bb03-960e0926b93c",
   "metadata": {},
   "outputs": [
    {
     "name": "stdout",
     "output_type": "stream",
     "text": [
      "The cards are: \t [6]\n",
      "The queried card is: \t 6\n"
     ]
    },
    {
     "data": {
      "text/plain": [
       "('The required card is at position:', 0)"
      ]
     },
     "execution_count": 101,
     "metadata": {},
     "output_type": "execute_result"
    }
   ],
   "source": [
    "cards=tests[4]['input']['cards']\n",
    "query=tests[4]['input']['query']\n",
    "locate_card(cards, query)"
   ]
  },
  {
   "cell_type": "code",
   "execution_count": 100,
   "id": "13da9d84-4804-4d4b-96c6-f937a47904d1",
   "metadata": {},
   "outputs": [
    {
     "name": "stdout",
     "output_type": "stream",
     "text": [
      "The cards are: \t [6]\n",
      "The queried card is: \t 6\n"
     ]
    }
   ],
   "source": [
    "def locate_card(cards, query):\n",
    "    position=0\n",
    "    for card in cards:\n",
    "        if position==len(cards):\n",
    "            return(-1)\n",
    "        elif card==query:\n",
    "#             print('The cards are:','\\t',cards)\n",
    "#             print('The queried card is:','\\t',query)\n",
    "            return (,position)\n",
    "        \n",
    "        else:\n",
    "            position += 1\n",
    "if locate_card(cards, query)==tests[4]['output']:\n",
    "    print('The solution is correct')"
   ]
  },
  {
   "cell_type": "code",
   "execution_count": null,
   "id": "acfac14e-952c-48dd-aadd-f4246764de54",
   "metadata": {},
   "outputs": [],
   "source": []
  },
  {
   "cell_type": "code",
   "execution_count": null,
   "id": "8f5018f1-a6bc-4d6b-a6b9-79ad3aea80a7",
   "metadata": {},
   "outputs": [],
   "source": []
  }
 ],
 "metadata": {
  "kernelspec": {
   "display_name": "Python 3",
   "language": "python",
   "name": "python3"
  },
  "language_info": {
   "codemirror_mode": {
    "name": "ipython",
    "version": 3
   },
   "file_extension": ".py",
   "mimetype": "text/x-python",
   "name": "python",
   "nbconvert_exporter": "python",
   "pygments_lexer": "ipython3",
   "version": "3.8.5"
  }
 },
 "nbformat": 4,
 "nbformat_minor": 5
}
