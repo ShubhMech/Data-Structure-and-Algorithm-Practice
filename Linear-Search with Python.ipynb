{
 "cells": [
  {
   "cell_type": "markdown",
   "id": "bd241115-9a1b-44d8-8afc-96b265b65cef",
   "metadata": {},
   "source": [
    "### 1.Problem \n",
    "\n",
    "This course takes a coding-focused approach towards learning. In each notebook, we'll focus on solving one problem, and learn the techniques, algorithms, and data structures to devise an *efficient* solution. We will then generalize the technique and apply it to other problems.\n",
    "\n",
    "\n",
    "\n",
    "In this notebook, we focus on solving the following problem:\n",
    "\n",
    "> **QUESTION 1:** Alice has some cards with numbers written on them. She arranges the cards in decreasing order, and lays them out face down in a sequence on a table. She challenges Bob to pick out the card containing a given number by turning over as few cards as possible. Write a function to help Bob locate the card.\n",
    "\n",
    "<img src=\"https://i.imgur.com/mazym6s.png\" width=\"480\">\n",
    "\n",
    "This may seem like a simple problem, especially if you're familiar with the concept of _binary search_, but the strategy and technique we learning here will be widely applicable, and we'll soon use it to solve harder problems."
   ]
  },
  {
   "cell_type": "markdown",
   "id": "8b67a102-0db6-493d-b0f1-e6f01cab737b",
   "metadata": {},
   "source": [
    "### 2. Come up with some example inputs & outputs. Try to cover all edge cases."
   ]
  },
  {
   "cell_type": "code",
   "execution_count": 12,
   "id": "009e8354-f5be-460b-8258-2c37ce6bf890",
   "metadata": {},
   "outputs": [],
   "source": [
    "# query occurs in the middle\n",
    "tests=[]\n",
    "# test= {\n",
    "#     'input': {\n",
    "#         'cards': [13, 11, 10, 7, 4, 3, 1, 0],\n",
    "#         'query': 1\n",
    "#     }}\n",
    "    \n",
    "# tests.append(test)\n",
    "\n",
    "tests.append({\n",
    "    'input': {\n",
    "        'cards': [13, 11, 10, 7, 4, 3, 1, 0],\n",
    "        'query': 1\n",
    "    },\n",
    "    'output': 6\n",
    "})"
   ]
  },
  {
   "cell_type": "code",
   "execution_count": 14,
   "id": "8ea76f3b-9c40-4ca0-9160-7f39771d80d3",
   "metadata": {},
   "outputs": [],
   "source": [
    "# query is the first element\n",
    "tests.append({\n",
    "    'input': {\n",
    "        'cards': [4, 2, 1, -1],\n",
    "        'query': 4\n",
    "    },\n",
    "    'output': 0\n",
    "})"
   ]
  },
  {
   "cell_type": "code",
   "execution_count": 15,
   "id": "7d47e352-676c-41f7-ad39-8ab95ee0f284",
   "metadata": {},
   "outputs": [],
   "source": [
    "# query is the last element\n",
    "tests.append({\n",
    "    'input': {\n",
    "        'cards': [3, -1, -9, -127],\n",
    "        'query': -127\n",
    "    },\n",
    "    'output': 3\n",
    "})"
   ]
  },
  {
   "cell_type": "code",
   "execution_count": 16,
   "id": "939796d7-f621-410e-86bf-f0ea4e346bb6",
   "metadata": {},
   "outputs": [],
   "source": [
    "# cards contains just one element, query\n",
    "tests.append({\n",
    "    'input': {\n",
    "        'cards': [6],\n",
    "        'query': 6\n",
    "    },\n",
    "    'output': 0 \n",
    "})"
   ]
  },
  {
   "cell_type": "markdown",
   "id": "cf2af8fa-18b8-41c7-963b-be6a75af98bc",
   "metadata": {},
   "source": [
    "The problem statement does not specify what to do if the list `cards` does not contain the number `query`. \n",
    "\n",
    "1. Read the problem statement again, carefully.\n",
    "2. Look through the examples provided with the problem.\n",
    "3. Ask the interviewer/platform for a clarification.\n",
    "4. Make a reasonable assumption, state it and move forward.\n",
    "\n",
    "We will assume that our function will return `-1` in case `cards` does not contain `query`."
   ]
  },
  {
   "cell_type": "markdown",
   "id": "2406478a-5889-4c71-862f-623c462b04fa",
   "metadata": {},
   "source": [
    "`ygdsyb`"
   ]
  },
  {
   "cell_type": "code",
   "execution_count": 17,
   "id": "92dee724-1cf9-416e-a6da-79e5421c9cf1",
   "metadata": {},
   "outputs": [
    {
     "data": {
      "text/plain": [
       "[{'input': {'cards': [13, 11, 10, 7, 4, 3, 1, 0], 'query': 1}, 'output': 6},\n",
       " {'input': {'cards': [4, 2, 1, -1], 'query': 4}, 'output': 0},\n",
       " {'input': {'cards': [4, 2, 1, -1], 'query': 4}, 'output': 0},\n",
       " {'input': {'cards': [3, -1, -9, -127], 'query': -127}, 'output': 3},\n",
       " {'input': {'cards': [6], 'query': 6}, 'output': 0}]"
      ]
     },
     "execution_count": 17,
     "metadata": {},
     "output_type": "execute_result"
    }
   ],
   "source": [
    "tests"
   ]
  },
  {
   "cell_type": "code",
   "execution_count": 44,
   "id": "299a3f31-59fc-4b5e-8ac5-d0e31ef43776",
   "metadata": {},
   "outputs": [
    {
     "data": {
      "text/plain": [
       "[4, 2, 1, -1]"
      ]
     },
     "execution_count": 44,
     "metadata": {},
     "output_type": "execute_result"
    }
   ],
   "source": [
    "tests[1]['input']['cards']"
   ]
  },
  {
   "cell_type": "markdown",
   "id": "abe3c56f-0d26-47fb-b59a-096dc0377e67",
   "metadata": {},
   "source": [
    "### 3. Come up with a correct solution for the problem\n",
    "Our first goal should always be to come up with a _correct_ solution to the problem, which may necessarily be the most _efficient_ solution. The simplest or most obvious solution to a problem, which generally involves checking all possible answers is called the _brute force_ solution.\n",
    "\n",
    "In this problem, coming up with a correct solution is quite easy: Bob can simply turn over cards in order one by one, till he find a card with the given number on it. Here's how we might implement it:\n",
    "\n",
    "1. Create a variable `position` with the value 0.\n",
    "3. Check whether the number at index `position` in `card` equals `query`.\n",
    "4. If it does, `position` is the answer and can be returned from the function\n",
    "5. If not, increment the value of `position` by 1, and repeat steps 2 to 5 till we reach the last position.\n",
    "6. If the number was not found, return `-1`."
   ]
  },
  {
   "cell_type": "code",
   "execution_count": 147,
   "id": "83636c92-bb33-4d8a-a1cc-8120afc922de",
   "metadata": {},
   "outputs": [],
   "source": [
    "def locate_card(cards, query):\n",
    "    position=0\n",
    "    while True:\n",
    "        if position==len(cards) :\n",
    "            #return(-1)\n",
    "            print('The card is not found:')\n",
    "            break\n",
    "        \n",
    "        for card in cards:\n",
    "\n",
    "            if card==query:\n",
    "                print('The cards are:','\\t',cards)\n",
    "                print('The queried card is:','\\t',query)\n",
    "                return (position)\n",
    "\n",
    "            else:\n",
    "                position += 1\n",
    "        "
   ]
  },
  {
   "cell_type": "code",
   "execution_count": 148,
   "id": "24970e58-48f8-4688-946d-9c892b91d083",
   "metadata": {},
   "outputs": [
    {
     "name": "stdout",
     "output_type": "stream",
     "text": [
      "The cards are: \t [13, 11, 10, 7, 4, 3, 1, 0]\n",
      "The queried card is: \t 1\n"
     ]
    },
    {
     "data": {
      "text/plain": [
       "6"
      ]
     },
     "execution_count": 148,
     "metadata": {},
     "output_type": "execute_result"
    }
   ],
   "source": [
    "cards=tests[0]['input']['cards']\n",
    "query=tests[0]['input']['query']\n",
    "\n",
    "locate_card(cards, query)"
   ]
  },
  {
   "cell_type": "code",
   "execution_count": 149,
   "id": "c94ffe13-07a2-4b9e-aca8-973d572d48ef",
   "metadata": {},
   "outputs": [
    {
     "name": "stdout",
     "output_type": "stream",
     "text": [
      "The cards are: \t [4, 2, 1, -1]\n",
      "The queried card is: \t 4\n"
     ]
    },
    {
     "data": {
      "text/plain": [
       "0"
      ]
     },
     "execution_count": 149,
     "metadata": {},
     "output_type": "execute_result"
    }
   ],
   "source": [
    "cards=tests[1]['input']['cards']\n",
    "query=tests[1]['input']['query']\n",
    "\n",
    "locate_card(cards, query)"
   ]
  },
  {
   "cell_type": "code",
   "execution_count": 150,
   "id": "8c5dbd74-0aac-4282-8a81-d64fe0a66663",
   "metadata": {},
   "outputs": [
    {
     "name": "stdout",
     "output_type": "stream",
     "text": [
      "The cards are: \t [4, 2, 1, -1]\n",
      "The queried card is: \t 4\n"
     ]
    },
    {
     "data": {
      "text/plain": [
       "0"
      ]
     },
     "execution_count": 150,
     "metadata": {},
     "output_type": "execute_result"
    }
   ],
   "source": [
    "cards=tests[2]['input']['cards']\n",
    "query=tests[2]['input']['query']\n",
    "\n",
    "locate_card(cards, query)"
   ]
  },
  {
   "cell_type": "code",
   "execution_count": 151,
   "id": "233d9220-ee94-4751-aaae-87c9a8abb4d0",
   "metadata": {},
   "outputs": [
    {
     "name": "stdout",
     "output_type": "stream",
     "text": [
      "The cards are: \t [3, -1, -9, -127]\n",
      "The queried card is: \t -127\n"
     ]
    },
    {
     "data": {
      "text/plain": [
       "3"
      ]
     },
     "execution_count": 151,
     "metadata": {},
     "output_type": "execute_result"
    }
   ],
   "source": [
    "cards=tests[3]['input']['cards']\n",
    "query=tests[3]['input']['query']\n",
    "locate_card(cards, query)\n"
   ]
  },
  {
   "cell_type": "code",
   "execution_count": 152,
   "id": "dcffcb64-4e74-483d-bb03-960e0926b93c",
   "metadata": {},
   "outputs": [
    {
     "name": "stdout",
     "output_type": "stream",
     "text": [
      "The cards are: \t [6]\n",
      "The queried card is: \t 6\n"
     ]
    },
    {
     "data": {
      "text/plain": [
       "0"
      ]
     },
     "execution_count": 152,
     "metadata": {},
     "output_type": "execute_result"
    }
   ],
   "source": [
    "cards=tests[4]['input']['cards']\n",
    "query=tests[4]['input']['query']\n",
    "locate_card(cards, query)"
   ]
  },
  {
   "cell_type": "markdown",
   "id": "b1674239-c8bd-4781-9148-f3dc7d8ec38d",
   "metadata": {},
   "source": [
    "## For our edgy cases:"
   ]
  },
  {
   "cell_type": "code",
   "execution_count": 121,
   "id": "acfac14e-952c-48dd-aadd-f4246764de54",
   "metadata": {},
   "outputs": [],
   "source": [
    "# cards does not contain query \n",
    "tests.append({\n",
    "    'input': {\n",
    "        'cards': [9, 7, 5, 2, -9],\n",
    "        'query': 4\n",
    "    },\n",
    "    'output': -1\n",
    "})"
   ]
  },
  {
   "cell_type": "code",
   "execution_count": 122,
   "id": "8f5018f1-a6bc-4d6b-a6b9-79ad3aea80a7",
   "metadata": {},
   "outputs": [],
   "source": [
    "# cards is empty\n",
    "tests.append({\n",
    "    'input': {\n",
    "        'cards': [],\n",
    "        'query': 7\n",
    "    },\n",
    "    'output': -1\n",
    "})"
   ]
  },
  {
   "cell_type": "code",
   "execution_count": 144,
   "id": "268ed65a-9912-4b9a-a064-1dacde4ad209",
   "metadata": {},
   "outputs": [
    {
     "name": "stdout",
     "output_type": "stream",
     "text": [
      "The card is not found:\n"
     ]
    }
   ],
   "source": [
    "cards=tests[5]['input']['cards']\n",
    "query=tests[5]['input']['query']\n",
    "locate_card(cards, query)\n"
   ]
  },
  {
   "cell_type": "code",
   "execution_count": 153,
   "id": "6e0aee76-914c-436e-bb66-d5bda123229f",
   "metadata": {},
   "outputs": [
    {
     "name": "stdout",
     "output_type": "stream",
     "text": [
      "The card is not found:\n"
     ]
    }
   ],
   "source": [
    "cards=tests[6]['input']['cards']\n",
    "query=tests[6]['input']['query']\n",
    "locate_card(cards, query)\n"
   ]
  },
  {
   "cell_type": "code",
   "execution_count": 157,
   "id": "f35db43e-c50f-4843-bab8-a5f30a4c384b",
   "metadata": {},
   "outputs": [],
   "source": [
    "# numbers can repeat in cards\n",
    "tests.append({\n",
    "    'input': {\n",
    "        'cards': [8, 8, 6, 6, 6, 6, 6, 3, 2, 2, 2, 0, 0, 0],\n",
    "        'query': 3\n",
    "    },\n",
    "    'output': 7\n",
    "})"
   ]
  },
  {
   "cell_type": "markdown",
   "id": "1b6c23e9-df46-43ba-a62b-29e5692f5fff",
   "metadata": {},
   "source": [
    "#### So modifying our funtion a bit more:"
   ]
  },
  {
   "cell_type": "code",
   "execution_count": 166,
   "id": "94c45d0a-42cf-4daa-8d79-1071d1be3530",
   "metadata": {},
   "outputs": [],
   "source": [
    "import numpy as np"
   ]
  },
  {
   "cell_type": "code",
   "execution_count": 167,
   "id": "1b5d80df-68b5-4fbf-b5b9-b87b32e60e29",
   "metadata": {},
   "outputs": [],
   "source": [
    "def locate_card(cards, query):\n",
    "    position=0\n",
    "    while True:\n",
    "        if position==len(np.unique(cards)) :\n",
    "            #return(-1)\n",
    "            print('The card is not found:')\n",
    "            break\n",
    "        \n",
    "        for card in np.unique(cards):\n",
    "\n",
    "            if card==query:\n",
    "                print('The cards are:','\\t',cards)\n",
    "                print('The queried card is:','\\t',query)\n",
    "                return (position)\n",
    "\n",
    "            else:\n",
    "                position += 1"
   ]
  },
  {
   "cell_type": "code",
   "execution_count": 168,
   "id": "9c35e830-ddc5-4310-b81d-0989bdaeb196",
   "metadata": {},
   "outputs": [
    {
     "data": {
      "text/plain": [
       "[{'input': {'cards': [13, 11, 10, 7, 4, 3, 1, 0], 'query': 1}, 'output': 6},\n",
       " {'input': {'cards': [4, 2, 1, -1], 'query': 4}, 'output': 0},\n",
       " {'input': {'cards': [4, 2, 1, -1], 'query': 4}, 'output': 0},\n",
       " {'input': {'cards': [3, -1, -9, -127], 'query': -127}, 'output': 3},\n",
       " {'input': {'cards': [6], 'query': 6}, 'output': 0},\n",
       " {'input': {'cards': [9, 7, 5, 2, -9], 'query': 4}, 'output': -1},\n",
       " {'input': {'cards': [], 'query': 7}, 'output': -1},\n",
       " {'input': {'cards': [9, 7, 5, 2, -9], 'query': 4}, 'output': -1},\n",
       " {'input': {'cards': [], 'query': 7}, 'output': -1},\n",
       " {'input': {'cards': [8, 8, 6, 6, 6, 6, 6, 3, 2, 2, 2, 0, 0, 0], 'query': 3},\n",
       "  'output': 7}]"
      ]
     },
     "execution_count": 168,
     "metadata": {},
     "output_type": "execute_result"
    }
   ],
   "source": [
    "tests"
   ]
  },
  {
   "cell_type": "code",
   "execution_count": 171,
   "id": "b7582a67-07ac-40cb-82d4-9ba726700228",
   "metadata": {},
   "outputs": [
    {
     "name": "stdout",
     "output_type": "stream",
     "text": [
      "The card is not found:\n"
     ]
    }
   ],
   "source": [
    "cards=tests[-1]['input']['cards']\n",
    "query=tests[-1]['output']\n",
    "locate_card(cards, query)"
   ]
  },
  {
   "cell_type": "code",
   "execution_count": 165,
   "id": "bad9e8c0-65f1-4dda-9a4f-9be48f85e54d",
   "metadata": {},
   "outputs": [
    {
     "data": {
      "text/plain": [
       "array([0, 2, 3, 6, 8])"
      ]
     },
     "execution_count": 165,
     "metadata": {},
     "output_type": "execute_result"
    }
   ],
   "source": []
  },
  {
   "cell_type": "code",
   "execution_count": null,
   "id": "83ef7831-928d-4131-ace6-b1494399555f",
   "metadata": {},
   "outputs": [],
   "source": []
  }
 ],
 "metadata": {
  "kernelspec": {
   "display_name": "Python 3",
   "language": "python",
   "name": "python3"
  },
  "language_info": {
   "codemirror_mode": {
    "name": "ipython",
    "version": 3
   },
   "file_extension": ".py",
   "mimetype": "text/x-python",
   "name": "python",
   "nbconvert_exporter": "python",
   "pygments_lexer": "ipython3",
   "version": "3.8.5"
  }
 },
 "nbformat": 4,
 "nbformat_minor": 5
}
